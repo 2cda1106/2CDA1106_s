{
  "nbformat": 4,
  "nbformat_minor": 0,
  "metadata": {
    "colab": {
      "provenance": [],
      "include_colab_link": true
    },
    "kernelspec": {
      "name": "python3",
      "display_name": "Python 3"
    },
    "language_info": {
      "name": "python"
    }
  },
  "cells": [
    {
      "cell_type": "markdown",
      "metadata": {
        "id": "view-in-github",
        "colab_type": "text"
      },
      "source": [
        "<a href=\"https://colab.research.google.com/github/2cda1106/2CDA1106_s/blob/main/4CQS9999_%E6%B0%8F%E5%90%8D_thu310.ipynb\" target=\"_parent\"><img src=\"https://colab.research.google.com/assets/colab-badge.svg\" alt=\"Open In Colab\"/></a>"
      ]
    },
    {
      "cell_type": "markdown",
      "source": [
        "## 問題1\n",
        "\n",
        "引数に関する問題\n",
        "\n",
        "モジュール`math`について調べてから，次のコードで空欄`_____`を埋め、\n",
        "```\n",
        "半径3の円の面積: 28.27\n",
        "25の平方根: 5.0\n",
        "```\n",
        "と表示されるように完成させてください。\n"
      ],
      "metadata": {
        "id": "q0iueVUxOxtj"
      }
    },
    {
      "cell_type": "code",
      "source": [
        "# 問題１の解答 修正前\n",
        "import math\n",
        "\n",
        "# 半径 r の円の面積を計算する関数\n",
        "def circle_area(r):\n",
        "    return math.pi * (_____ ** 2)  # (1)\n",
        "\n",
        "# 数値 x の平方根を返す関数\n",
        "def square_root(x):\n",
        "    return _____(x)  # (2)\n",
        "\n",
        "# テスト\n",
        "radius = 3\n",
        "number = 25\n",
        "print(f\"半径3の円の面積: {circle_area(_____):.2f}\")  # (3)\n",
        "print(\"25の平方根:\", square_root(_____))  # (4)"
      ],
      "metadata": {
        "id": "IQXTUMpISzbQ"
      },
      "execution_count": null,
      "outputs": []
    },
    {
      "cell_type": "markdown",
      "source": [
        "## 問題２\n",
        "\n",
        "モジュール`random`について調べてから，次のコードで空欄_____を埋め、\n",
        "```\n",
        "目: 回数, 全体に対する割合\n",
        "1: 47回, 23.5%\n",
        "2: 34回, 17.0%\n",
        "3: 29回, 14.5%\n",
        "4: 33回, 16.5%\n",
        "5: 29回, 14.5%\n",
        "6: 28回, 14.0%\n",
        "```\n",
        "と表示されるように完成させてください。"
      ],
      "metadata": {
        "id": "sy6RQigohFXe"
      }
    },
    {
      "cell_type": "code",
      "source": [
        "# 問題2の解答 修正前\n",
        "import random\n",
        "\n",
        "random.seed(1234) # 乱数の出方を固定する。本当の使い方は別の値を設定する。\n",
        "# サイコロを振る関数\n",
        "def roll_dice():\n",
        "    return random.randint(_____, _____)  # (1)\n",
        "\n",
        "# サイコロを200回振る\n",
        "counts = {i: 0 for i in range(1, 7)} # 出た目を数える辞書\n",
        "total = _____ # (2)\n",
        "for _ in range(total):\n",
        "    result = roll_dice()\n",
        "    counts[result] += _____ # (3)\n",
        "\n",
        "# 結果を表示\n",
        "print(f\"目: 回数, 全体に対する割合\")\n",
        "for number, count in counts.items():\n",
        "    print(f\"{number}: {count}回, {_____:.1%}\") # (4)"
      ],
      "metadata": {
        "id": "ZtGQKvH4UvLY"
      },
      "execution_count": null,
      "outputs": []
    },
    {
      "cell_type": "markdown",
      "source": [
        "##問題３\n",
        "\n",
        "スポーツ会員のクラスにおいて，会員番号を自動的に割り当て，ジムの最終利用日時を記録できるようにした。\n",
        "プログラムを実行するとつぎのように表示するように**クラスの内部を**修正してください。\n",
        "```\n",
        "山田さんの体重 67.3 kgを再設定しました。\n",
        "yamada.weight = 67.3\n",
        "山田さんの最終利用日時 2024-12-05 14:30 を再設定しました。\n",
        "鈴木さんの最終利用日時 2024-12-06 16:00 を再設定しました。\n",
        "1: 山田, 67.3kg, 最終利用日時: 2024-12-05 14:30\n",
        "2: 鈴木, 65.4kg, 最終利用日時: 2024-12-06 16:00\n",
        "山田さんの減量 2.0 kgを受け付けました。\n",
        "1: 山田, 65.3kg, 最終利用日時: 2024-12-05 14:30\n",
        "```\n",
        "修正した行の最後には必ず`# 修正` というコメントを付けること。"
      ],
      "metadata": {
        "id": "HYhIIkvbK2Tw"
      }
    },
    {
      "cell_type": "code",
      "source": [
        "# 問題3の解答 修正前\n",
        "from datetime import datetime\n",
        "\n",
        "class Member:\n",
        "    \"\"\"スポーツ会員のクラス\"\"\"\n",
        "    _counter = 1  # 会員番号を自動的に割り当て\n",
        "\n",
        "    def __init__(self, name, weight):\n",
        "        \"\"\"コンストラクタ\"\"\"\n",
        "        self.__no = Member._counter\n",
        "        Member._counter += 1\n",
        "\n",
        "        self.__name = name     # 氏名\n",
        "        self.__weight = weight if weight >= 0 else 0.0  # 体重が0以上\n",
        "        self.__last_used = None  # 最終利用日時を初期化\n",
        "\n",
        "    def lose_weight(self, loss):\n",
        "        \"\"\"lossキロ減量\"\"\"\n",
        "        if loss > 0:\n",
        "            self.__weight -= loss\n",
        "\n",
        "    def set_last_used(self, date_str):\n",
        "        \"\"\"\n",
        "        最終利用日時を設定\n",
        "        :param date_str 利用日時（'YYYY-MM-DD HH:MM' の形式）\n",
        "        \"\"\"\n",
        "        try:\n",
        "            self.__last_used = datetime.strptime(date_str, '%Y-%m-%d %H:%M')\n",
        "        except ValueError:\n",
        "            print(\"日時の形式が正しくありません。'YYYY-MM-DD HH:MM' の形式で入力してください。\")\n",
        "\n",
        "    def print(self):\n",
        "        \"\"\"データ表示\"\"\"\n",
        "        last_used_str = self.__last_used.strftime('%Y-%m-%d %H:%M') if self.__last_used else '未利用'\n",
        "        print(f'{self.__no}: {self.__name}, {self.__weight}kg, 最終利用日時: {last_used_str}')\n",
        "\n",
        "    @property\n",
        "    def weight(self):\n",
        "        \"\"\"体重の取得,getter\"\"\"\n",
        "        return self.__weight\n",
        "\n",
        "    @weight.setter\n",
        "    def weight(self, weight):\n",
        "        \"\"\"体重を設定,setter\"\"\"\n",
        "        if weight >= 0.0:\n",
        "            self.__weight = weight\n",
        "        else:\n",
        "            print(\"体重は0以上である必要があります。\")\n",
        "\n",
        "# クラスの動作テスト\n",
        "yamada = Member('山田', 72.7)  # インスタンスの生成\n",
        "suzuki = Member('鈴木', 65.4)  # 別のインスタンスの生成\n",
        "\n",
        "# 体重の設定と表示\n",
        "yamada.weight = 67.3 # 体重を再設定したことを表示したい\n",
        "print('yamada.weight =', yamada.weight)\n",
        "\n",
        "# ジム利用日時の設定\n",
        "yamada.set_last_used('2024-12-05 14:30') # 日時を再設定したことを表示したい\n",
        "suzuki.set_last_used('2024-12-06 16:00')\n",
        "\n",
        "# メンバー情報を表示\n",
        "yamada.print()\n",
        "suzuki.print()\n",
        "\n",
        "# 減量を行い、再度表示\n",
        "yamada.lose_weight(2.0) # 減量を設定したことを表示したい\n",
        "yamada.print()"
      ],
      "metadata": {
        "id": "ujy7vLTuib9M",
        "colab": {
          "base_uri": "https://localhost:8080/"
        },
        "outputId": "c857869d-6d64-4d13-f94f-e56538931dc4"
      },
      "execution_count": null,
      "outputs": [
        {
          "output_type": "stream",
          "name": "stdout",
          "text": [
            "yamada.weight = 67.3\n",
            "1: 山田, 67.3kg, 最終利用日時: 2024-12-05 14:30\n",
            "2: 鈴木, 65.4kg, 最終利用日時: 2024-12-06 16:00\n",
            "1: 山田, 65.3kg, 最終利用日時: 2024-12-05 14:30\n"
          ]
        }
      ]
    }
  ]
}